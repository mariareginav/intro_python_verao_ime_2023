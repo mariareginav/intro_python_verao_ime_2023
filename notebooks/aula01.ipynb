{
 "cells": [
  {
   "cell_type": "markdown",
   "metadata": {
    "collapsed": true,
    "pycharm": {
     "name": "#%% md\n"
    }
   },
   "source": [
    "# Introdução ao Python para análise exploratória de dados - aula01"
   ]
  },
  {
   "cell_type": "markdown",
   "metadata": {
    "pycharm": {
     "name": "#%% md\n"
    }
   },
   "source": [
    "![](../img/intro_python.png)"
   ]
  },
  {
   "cell_type": "markdown",
   "metadata": {
    "pycharm": {
     "name": "#%% md\n"
    }
   },
   "source": [
    " Na última aula falamos sobre os tipos mais simples de variáveis do Python. Nesta aula falaremos sobre variáveis mais complexas, mas que ainda assim fazem parte do conjunto de variáveis nativas (*built-in*) do Python: lista, tupla e dicionário."
   ]
  },
  {
   "cell_type": "markdown",
   "metadata": {
    "pycharm": {
     "name": "#%% md\n"
    }
   },
   "source": [
    "**Lista:** é uma coleção de itens armazenados de forma sequencial e ordenada.\n",
    "Podemos colocar qualquer informação em uma lista e os itens dela não precisam ser relacionados. As listas são acessadas por meio de um índice.\n",
    "\n",
    "**Tupla:** também é uma coleção de itens, porém imutável\n",
    "Uma vez criada, não podemos remover, adicionar ou alterar nenhum de seus itens.\n",
    "\n",
    "**Dicionário:** coleção não ordenada de pares chave- valor\n",
    "Cada item é acessado por uma chave que deve ser um valor imutável de qualquer tipo (string, numérico ou tupla, por exemplo)"
   ]
  },
  {
   "cell_type": "markdown",
   "metadata": {
    "pycharm": {
     "name": "#%% md\n"
    }
   },
   "source": [
    "## Lista"
   ]
  },
  {
   "cell_type": "code",
   "execution_count": 1,
   "metadata": {
    "pycharm": {
     "name": "#%%\n"
    }
   },
   "outputs": [],
   "source": [
    "filme = ['Pulp fiction', 1994, 'Crime/Drama', 8.9]"
   ]
  },
  {
   "cell_type": "code",
   "execution_count": 2,
   "metadata": {
    "pycharm": {
     "name": "#%%\n"
    }
   },
   "outputs": [
    {
     "data": {
      "text/plain": [
       "'Pulp fiction'"
      ]
     },
     "execution_count": 2,
     "metadata": {},
     "output_type": "execute_result"
    }
   ],
   "source": [
    "filme[0]"
   ]
  },
  {
   "cell_type": "code",
   "execution_count": 3,
   "metadata": {
    "pycharm": {
     "name": "#%%\n"
    }
   },
   "outputs": [],
   "source": [
    "filme = ['Pulp fiction', 1994, 'Crime/Drama', 8.9, ['John Travolta', 'Uma Thurman', 'Samuel L. Jackson']]"
   ]
  },
  {
   "cell_type": "code",
   "execution_count": 4,
   "metadata": {
    "pycharm": {
     "name": "#%%\n"
    }
   },
   "outputs": [
    {
     "data": {
      "text/plain": [
       "['John Travolta', 'Uma Thurman', 'Samuel L. Jackson']"
      ]
     },
     "execution_count": 4,
     "metadata": {},
     "output_type": "execute_result"
    }
   ],
   "source": [
    "filme[4]"
   ]
  },
  {
   "cell_type": "code",
   "execution_count": 5,
   "metadata": {
    "pycharm": {
     "name": "#%%\n"
    }
   },
   "outputs": [
    {
     "data": {
      "text/plain": [
       "'Uma Thurman'"
      ]
     },
     "execution_count": 5,
     "metadata": {},
     "output_type": "execute_result"
    }
   ],
   "source": [
    "filme[4][1]"
   ]
  },
  {
   "cell_type": "markdown",
   "metadata": {
    "pycharm": {
     "name": "#%% md\n"
    }
   },
   "source": [
    "### Comandos para usar com listas\n",
    "\n",
    "**.count()** # conta quantas vezes um dado valor ocorre dentro da lista\n",
    "\n",
    "**.append()** # acrescenta dados ao final de uma lista\n",
    "\n",
    "**.insert()** # insere um elemento em uma posicão específica da lista. É computacionalmente mais custoso do que append.\n",
    "\n",
    "**.pop** # operacão inversa do insert, ou seja, remove e retorna um elemento de um índice específico.\n",
    "\n",
    "**.remove** # localiza o primeiro valor correspondente e o remove da lista\n",
    "\n",
    "**.join()** # gruda os elementos de uma sequência de strings, usando um parâmetro fornecido. Só funciona com lista de strings\n",
    "\n",
    "**.split()** # separa uma string com base em algum caracter, criando assim uma lista de strings.\n",
    "\n",
    "**.sort()** # ordena uma lista *in place*, ou seja, sem criar um novo objeto\n",
    "\n"
   ]
  },
  {
   "cell_type": "code",
   "execution_count": 6,
   "metadata": {
    "pycharm": {
     "name": "#%%\n"
    }
   },
   "outputs": [
    {
     "data": {
      "text/plain": [
       "1"
      ]
     },
     "execution_count": 6,
     "metadata": {},
     "output_type": "execute_result"
    }
   ],
   "source": [
    "filme = ['Pulp fiction', 1994, 'Crime/Drama', 8.9,\n",
    "         ['John Travolta', 'Uma Thurman', 'Samuel L. Jackson']]\n",
    "filme.count(1994)"
   ]
  },
  {
   "cell_type": "code",
   "execution_count": 7,
   "metadata": {
    "pycharm": {
     "name": "#%%\n"
    }
   },
   "outputs": [
    {
     "name": "stdout",
     "output_type": "stream",
     "text": [
      "['Pulp fiction', 1994, 'Crime/Drama', 8.9, ['John Travolta', 'Uma Thurman', 'Samuel L. Jackson'], 'Quentin Tarantino']\n"
     ]
    }
   ],
   "source": [
    "filme.append(\"Quentin Tarantino\")\n",
    "print(filme)"
   ]
  },
  {
   "cell_type": "code",
   "execution_count": 8,
   "metadata": {
    "pycharm": {
     "name": "#%%\n"
    }
   },
   "outputs": [
    {
     "data": {
      "text/plain": [
       "['Pulp fiction',\n",
       " 'Quentin Tarantino',\n",
       " 1994,\n",
       " 'Crime/Drama',\n",
       " 8.9,\n",
       " ['John Travolta', 'Uma Thurman', 'Samuel L. Jackson'],\n",
       " 'Quentin Tarantino']"
      ]
     },
     "execution_count": 8,
     "metadata": {},
     "output_type": "execute_result"
    }
   ],
   "source": [
    "filme.insert(1, \"Quentin Tarantino\")\n",
    "filme"
   ]
  },
  {
   "cell_type": "code",
   "execution_count": 9,
   "metadata": {
    "pycharm": {
     "name": "#%%\n"
    }
   },
   "outputs": [
    {
     "data": {
      "text/plain": [
       "['Pulp fiction',\n",
       " 1994,\n",
       " 'Crime/Drama',\n",
       " 8.9,\n",
       " ['John Travolta', 'Uma Thurman', 'Samuel L. Jackson'],\n",
       " 'Quentin Tarantino']"
      ]
     },
     "execution_count": 9,
     "metadata": {},
     "output_type": "execute_result"
    }
   ],
   "source": [
    "filme.remove(\"Quentin Tarantino\")\n",
    "filme"
   ]
  },
  {
   "cell_type": "code",
   "execution_count": 10,
   "metadata": {
    "pycharm": {
     "name": "#%%\n"
    }
   },
   "outputs": [
    {
     "data": {
      "text/plain": [
       "'John Travolta e Uma Thurman e Samuel L. Jackson'"
      ]
     },
     "execution_count": 10,
     "metadata": {},
     "output_type": "execute_result"
    }
   ],
   "source": [
    "atores = ['John Travolta', 'Uma Thurman', 'Samuel L. Jackson']\n",
    "' e '.join(atores)"
   ]
  },
  {
   "cell_type": "code",
   "execution_count": 14,
   "metadata": {
    "pycharm": {
     "name": "#%%\n"
    }
   },
   "outputs": [
    {
     "data": {
      "text/plain": [
       "['9', ' 94', ' 5']"
      ]
     },
     "execution_count": 14,
     "metadata": {},
     "output_type": "execute_result"
    }
   ],
   "source": [
    "notas = '9, 94, 5' # notas do filme\n",
    "notas.split(',')"
   ]
  },
  {
   "cell_type": "code",
   "execution_count": 15,
   "metadata": {
    "pycharm": {
     "name": "#%%\n"
    }
   },
   "outputs": [],
   "source": [
    "notas = notas.split(',')"
   ]
  },
  {
   "cell_type": "code",
   "execution_count": 18,
   "metadata": {
    "pycharm": {
     "name": "#%%\n"
    }
   },
   "outputs": [
    {
     "name": "stdout",
     "output_type": "stream",
     "text": [
      "<class 'int'>\n"
     ]
    }
   ],
   "source": [
    "notas_int = [] # crio uma lista vazia que vai receber os numeros como int\n",
    "for n in notas:\n",
    "    n = int(n)\n",
    "    notas_int.append(n) # vou salvando cada um dos números transformados para o tipo int\n",
    "print(type(notas_int[0]))"
   ]
  },
  {
   "cell_type": "code",
   "execution_count": 20,
   "metadata": {
    "pycharm": {
     "name": "#%%\n"
    }
   },
   "outputs": [
    {
     "data": {
      "text/plain": [
       "[5, 9, 94]"
      ]
     },
     "execution_count": 20,
     "metadata": {},
     "output_type": "execute_result"
    }
   ],
   "source": [
    "notas_int.sort()\n",
    "notas_int"
   ]
  },
  {
   "cell_type": "code",
   "execution_count": 21,
   "metadata": {},
   "outputs": [
    {
     "data": {
      "text/plain": [
       "108"
      ]
     },
     "execution_count": 21,
     "metadata": {},
     "output_type": "execute_result"
    }
   ],
   "source": [
    "sum(notas_int)"
   ]
  },
  {
   "cell_type": "code",
   "execution_count": 24,
   "metadata": {
    "pycharm": {
     "name": "#%%\n"
    }
   },
   "outputs": [
    {
     "data": {
      "text/plain": [
       "['Uma Thurman', 'John Travolta', 'Samuel L. Jackson']"
      ]
     },
     "execution_count": 24,
     "metadata": {},
     "output_type": "execute_result"
    }
   ],
   "source": [
    "atores.sort(key=len) # é possível passar um argumento para o sort ser feito pelo tamanho das strings, se eu deixo () ele ordena em ordem alfabetica\n",
    "atores"
   ]
  },
  {
   "cell_type": "markdown",
   "metadata": {
    "pycharm": {
     "name": "#%% md\n"
    }
   },
   "source": [
    "Podemos checar se uma lista contém um dado valor usando o operador *in*.\n",
    "Tamb[em podemos checar se uma lista **não** contém um dado valor usando o operador *not* em conjunto."
   ]
  },
  {
   "cell_type": "code",
   "execution_count": 25,
   "metadata": {
    "pycharm": {
     "name": "#%%\n"
    }
   },
   "outputs": [
    {
     "data": {
      "text/plain": [
       "True"
      ]
     },
     "execution_count": 25,
     "metadata": {},
     "output_type": "execute_result"
    }
   ],
   "source": [
    "1994 in filme"
   ]
  },
  {
   "cell_type": "code",
   "execution_count": 26,
   "metadata": {
    "pycharm": {
     "name": "#%%\n"
    }
   },
   "outputs": [
    {
     "data": {
      "text/plain": [
       "False"
      ]
     },
     "execution_count": 26,
     "metadata": {},
     "output_type": "execute_result"
    }
   ],
   "source": [
    "1994 not in filme"
   ]
  },
  {
   "cell_type": "markdown",
   "metadata": {
    "pycharm": {
     "name": "#%% md\n"
    }
   },
   "source": [
    "## Tupla"
   ]
  },
  {
   "cell_type": "code",
   "execution_count": 27,
   "metadata": {
    "pycharm": {
     "name": "#%%\n"
    }
   },
   "outputs": [
    {
     "data": {
      "text/plain": [
       "True"
      ]
     },
     "execution_count": 27,
     "metadata": {},
     "output_type": "execute_result"
    }
   ],
   "source": [
    "avaliacao = 'ótimo', 'bom', 'regular', 'ruim', 'péssimo'\n",
    "opiniao = ('ótimo', 'bom', 'regular', 'ruim', 'péssimo')\n",
    "avaliacao == opiniao"
   ]
  },
  {
   "cell_type": "code",
   "execution_count": 28,
   "metadata": {
    "pycharm": {
     "name": "#%%\n"
    }
   },
   "outputs": [],
   "source": [
    "a = (1,) # para criar uma tupla de 1 elemento usamos a vírgula"
   ]
  },
  {
   "cell_type": "code",
   "execution_count": 29,
   "metadata": {
    "pycharm": {
     "name": "#%%\n"
    }
   },
   "outputs": [
    {
     "data": {
      "text/plain": [
       "tuple"
      ]
     },
     "execution_count": 29,
     "metadata": {},
     "output_type": "execute_result"
    }
   ],
   "source": [
    "type(a)"
   ]
  },
  {
   "cell_type": "code",
   "execution_count": 30,
   "metadata": {
    "pycharm": {
     "name": "#%%\n"
    }
   },
   "outputs": [],
   "source": [
    "b = (1)"
   ]
  },
  {
   "cell_type": "code",
   "execution_count": 31,
   "metadata": {
    "pycharm": {
     "name": "#%%\n"
    }
   },
   "outputs": [
    {
     "data": {
      "text/plain": [
       "int"
      ]
     },
     "execution_count": 31,
     "metadata": {},
     "output_type": "execute_result"
    }
   ],
   "source": [
    "type(b)"
   ]
  },
  {
   "cell_type": "markdown",
   "metadata": {
    "pycharm": {
     "name": "#%% md\n"
    }
   },
   "source": [
    "Enquanto os objetos armazenados em uma tupla podem ser mutáveis, uma vez que ela é criada não é possível modificar os objetos que estão armazenados em cada índice dela."
   ]
  },
  {
   "cell_type": "code",
   "execution_count": 37,
   "metadata": {
    "pycharm": {
     "name": "#%%\n"
    }
   },
   "outputs": [
    {
     "ename": "TypeError",
     "evalue": "'tuple' object does not support item assignment",
     "output_type": "error",
     "traceback": [
      "\u001b[0;31m---------------------------------------------------------------------------\u001b[0m",
      "\u001b[0;31mTypeError\u001b[0m                                 Traceback (most recent call last)",
      "Cell \u001b[0;32mIn[37], line 3\u001b[0m\n\u001b[1;32m      1\u001b[0m lista \u001b[39m=\u001b[39m [\u001b[39m'\u001b[39m\u001b[39mfoo\u001b[39m\u001b[39m'\u001b[39m, [\u001b[39m1\u001b[39m, \u001b[39m2\u001b[39m], \u001b[39mTrue\u001b[39;00m]\n\u001b[1;32m      2\u001b[0m tup \u001b[39m=\u001b[39m \u001b[39mtuple\u001b[39m(lista)\n\u001b[0;32m----> 3\u001b[0m tup[\u001b[39m2\u001b[39;49m] \u001b[39m=\u001b[39m \u001b[39mFalse\u001b[39;00m\n",
      "\u001b[0;31mTypeError\u001b[0m: 'tuple' object does not support item assignment"
     ]
    }
   ],
   "source": [
    "lista = ['foo', [1, 2], True]\n",
    "tup = tuple(lista)\n",
    "tup[2] = False"
   ]
  },
  {
   "cell_type": "markdown",
   "metadata": {
    "pycharm": {
     "name": "#%% md\n"
    }
   },
   "source": [
    "Se um objeto dentro da tupla é mutável, como uma lista, você pode alterá-lo."
   ]
  },
  {
   "cell_type": "code",
   "execution_count": 39,
   "metadata": {
    "pycharm": {
     "name": "#%%\n"
    }
   },
   "outputs": [
    {
     "data": {
      "text/plain": [
       "('foo', [1, 2, 3, 3], True)"
      ]
     },
     "execution_count": 39,
     "metadata": {},
     "output_type": "execute_result"
    }
   ],
   "source": [
    "tup[1].append(3) # estamos mudando a lista que está dentro da tupla e não a tupla em si\n",
    "tup"
   ]
  },
  {
   "cell_type": "code",
   "execution_count": 40,
   "metadata": {
    "pycharm": {
     "name": "#%%\n"
    }
   },
   "outputs": [
    {
     "ename": "TypeError",
     "evalue": "'tuple' object does not support item assignment",
     "output_type": "error",
     "traceback": [
      "\u001b[0;31m---------------------------------------------------------------------------\u001b[0m",
      "\u001b[0;31mTypeError\u001b[0m                                 Traceback (most recent call last)",
      "Cell \u001b[0;32mIn[40], line 1\u001b[0m\n\u001b[0;32m----> 1\u001b[0m tup[\u001b[39m1\u001b[39;49m] \u001b[39m=\u001b[39m [\u001b[39m1\u001b[39m,\u001b[39m2\u001b[39m]\n",
      "\u001b[0;31mTypeError\u001b[0m: 'tuple' object does not support item assignment"
     ]
    }
   ],
   "source": [
    "tup[1] = [1,2]"
   ]
  },
  {
   "cell_type": "markdown",
   "metadata": {
    "pycharm": {
     "name": "#%% md\n"
    }
   },
   "source": [
    "### Comandos para usar com tuplas\n",
    "Já que o tamanho e o conteúdo de uma tupla não podem ser modificados, os comandos (ou métodos) relacionados a este tipo de objeto são poucos. Um método útil é o método *.count()* que também vimos disponível para listas"
   ]
  },
  {
   "cell_type": "code",
   "execution_count": 41,
   "metadata": {},
   "outputs": [
    {
     "data": {
      "text/plain": [
       "1"
      ]
     },
     "execution_count": 41,
     "metadata": {},
     "output_type": "execute_result"
    }
   ],
   "source": [
    "tup.count(\"foo\")"
   ]
  },
  {
   "cell_type": "markdown",
   "metadata": {
    "pycharm": {
     "name": "#%% md\n"
    }
   },
   "source": [
    "## Dicionário"
   ]
  },
  {
   "cell_type": "code",
   "execution_count": 42,
   "metadata": {
    "pycharm": {
     "name": "#%%\n"
    }
   },
   "outputs": [],
   "source": [
    "participante = {} # cria um dicionário vazio"
   ]
  },
  {
   "cell_type": "markdown",
   "metadata": {
    "pycharm": {
     "name": "#%% md\n"
    }
   },
   "source": [
    "Usamos colchetes para criar um dicionário e dois pontos para separa os pares de chave-valor."
   ]
  },
  {
   "cell_type": "code",
   "execution_count": 43,
   "metadata": {
    "pycharm": {
     "name": "#%%\n"
    }
   },
   "outputs": [],
   "source": [
    "participante = {'nome': 'Bruna', 'curso': 'Lógica de programação', 'nota': 10}"
   ]
  },
  {
   "cell_type": "markdown",
   "metadata": {
    "pycharm": {
     "name": "#%% md\n"
    }
   },
   "source": [
    "Podemos acessar, inserir ou configurar os elementos de um dicionário com a mesma sintaxe usada para acessar elementos de uma lista ou tupla"
   ]
  },
  {
   "cell_type": "code",
   "execution_count": 44,
   "metadata": {
    "pycharm": {
     "name": "#%%\n"
    }
   },
   "outputs": [
    {
     "data": {
      "text/plain": [
       "{'nome': 'Bruna', 'curso': 'Lógica de programação', 'nota': 10, 'faltas': 2}"
      ]
     },
     "execution_count": 44,
     "metadata": {},
     "output_type": "execute_result"
    }
   ],
   "source": [
    "participante['faltas'] = 2 # adiciona um novo par chave-valor\n",
    "participante"
   ]
  },
  {
   "cell_type": "code",
   "execution_count": 45,
   "metadata": {
    "pycharm": {
     "name": "#%%\n"
    }
   },
   "outputs": [
    {
     "data": {
      "text/plain": [
       "2"
      ]
     },
     "execution_count": 45,
     "metadata": {},
     "output_type": "execute_result"
    }
   ],
   "source": [
    "participante[\"faltas\"]"
   ]
  },
  {
   "cell_type": "code",
   "execution_count": 46,
   "metadata": {
    "pycharm": {
     "name": "#%%\n"
    }
   },
   "outputs": [
    {
     "data": {
      "text/plain": [
       "True"
      ]
     },
     "execution_count": 46,
     "metadata": {},
     "output_type": "execute_result"
    }
   ],
   "source": [
    "\"curso\" in participante # também podemos usar o operador in com dicionários"
   ]
  },
  {
   "cell_type": "markdown",
   "metadata": {
    "pycharm": {
     "name": "#%% md\n"
    }
   },
   "source": [
    "### Comandos para usar com dicionários\n",
    "**del** # deleta um valor\n",
    "**.pop()** # simultâneamente retorna o valor e deleta a chave\n",
    "**.keys()** # retorna as chaves que o dicionário possui\n",
    "**.values()** # retorna os valores armazenados no dicionário\n",
    "**.update()** # junta dois dicionários\n",
    "**.items()** # retorna o par chave-valor como tupla. Útil quando precisamos iterar sobre os dois.\n",
    "\n"
   ]
  },
  {
   "cell_type": "code",
   "execution_count": 47,
   "metadata": {
    "pycharm": {
     "name": "#%%\n"
    }
   },
   "outputs": [
    {
     "data": {
      "text/plain": [
       "{'nome': 'Bruna', 'curso': 'Lógica de programação', 'nota': 10}"
      ]
     },
     "execution_count": 47,
     "metadata": {},
     "output_type": "execute_result"
    }
   ],
   "source": [
    "del participante['faltas'] # apaga um item\n",
    "participante"
   ]
  },
  {
   "cell_type": "code",
   "execution_count": 48,
   "metadata": {
    "pycharm": {
     "name": "#%%\n"
    }
   },
   "outputs": [
    {
     "data": {
      "text/plain": [
       "{'nome': 'Bruna',\n",
       " 'curso': 'Lógica de programação',\n",
       " 'nota': 10,\n",
       " 5: 'número da chamada'}"
      ]
     },
     "execution_count": 48,
     "metadata": {},
     "output_type": "execute_result"
    }
   ],
   "source": [
    "participante[5] = \"número da chamada\"\n",
    "participante"
   ]
  },
  {
   "cell_type": "code",
   "execution_count": 49,
   "metadata": {
    "pycharm": {
     "name": "#%%\n"
    }
   },
   "outputs": [
    {
     "data": {
      "text/plain": [
       "'número da chamada'"
      ]
     },
     "execution_count": 49,
     "metadata": {},
     "output_type": "execute_result"
    }
   ],
   "source": [
    "participante.pop(5)"
   ]
  },
  {
   "cell_type": "code",
   "execution_count": 50,
   "metadata": {
    "pycharm": {
     "name": "#%%\n"
    }
   },
   "outputs": [
    {
     "data": {
      "text/plain": [
       "{'nome': 'Bruna', 'curso': 'Lógica de programação', 'nota': 10}"
      ]
     },
     "execution_count": 50,
     "metadata": {},
     "output_type": "execute_result"
    }
   ],
   "source": [
    "participante"
   ]
  },
  {
   "cell_type": "code",
   "execution_count": 51,
   "metadata": {
    "pycharm": {
     "name": "#%%\n"
    }
   },
   "outputs": [
    {
     "data": {
      "text/plain": [
       "dict_keys(['nome', 'curso', 'nota'])"
      ]
     },
     "execution_count": 51,
     "metadata": {},
     "output_type": "execute_result"
    }
   ],
   "source": [
    "participante.keys()"
   ]
  },
  {
   "cell_type": "code",
   "execution_count": 52,
   "metadata": {
    "pycharm": {
     "name": "#%%\n"
    }
   },
   "outputs": [
    {
     "data": {
      "text/plain": [
       "dict_values(['Bruna', 'Lógica de programação', 10])"
      ]
     },
     "execution_count": 52,
     "metadata": {},
     "output_type": "execute_result"
    }
   ],
   "source": [
    "participante.values()"
   ]
  },
  {
   "cell_type": "code",
   "execution_count": 53,
   "metadata": {
    "pycharm": {
     "name": "#%%\n"
    }
   },
   "outputs": [
    {
     "data": {
      "text/plain": [
       "dict_items([('nome', 'Bruna'), ('curso', 'Lógica de programação'), ('nota', 10)])"
      ]
     },
     "execution_count": 53,
     "metadata": {},
     "output_type": "execute_result"
    }
   ],
   "source": [
    "participante.items()"
   ]
  },
  {
   "cell_type": "code",
   "execution_count": 54,
   "metadata": {
    "pycharm": {
     "name": "#%%\n"
    }
   },
   "outputs": [
    {
     "data": {
      "text/plain": [
       "{'nome': 'Bruna',\n",
       " 'curso': 'Introdução à Lógica de Programação com Python',\n",
       " 'nota': 10,\n",
       " 'provas': [8.7, 9.5, 10],\n",
       " 'exercícios': [7, 8.5, 7.8, 10]}"
      ]
     },
     "execution_count": 54,
     "metadata": {},
     "output_type": "execute_result"
    }
   ],
   "source": [
    "notas = {\"curso\": \"Introdução à Lógica de Programação com Python\", \"nota\": 10, \"provas\": [8.7, 9.5, 10], \"exercícios\": [7, 8.5, 7.8, 10]}\n",
    "\n",
    "participante.update(notas)\n",
    "participante"
   ]
  },
  {
   "cell_type": "markdown",
   "metadata": {
    "pycharm": {
     "name": "#%% md\n"
    }
   },
   "source": [
    "## Estruturas condicionais e de repetição"
   ]
  },
  {
   "cell_type": "markdown",
   "metadata": {
    "pycharm": {
     "name": "#%% md\n"
    }
   },
   "source": [
    "## *if* *else*\n",
    "Checa se uma condicão é um booleano verdadeiro ou pode ser avaliado como True"
   ]
  },
  {
   "cell_type": "code",
   "execution_count": 56,
   "metadata": {
    "pycharm": {
     "name": "#%%\n"
    }
   },
   "outputs": [
    {
     "name": "stdout",
     "output_type": "stream",
     "text": [
      "Durante a viagem o tempo ficará fechado!\n"
     ]
    }
   ],
   "source": [
    "sol = 'não'\n",
    "if sol == 'sim':\n",
    "    print('Durante a viagem fará sol!')\n",
    "else:\n",
    "    print('Durante a viagem o tempo ficará fechado!')"
   ]
  },
  {
   "cell_type": "markdown",
   "metadata": {
    "pycharm": {
     "name": "#%% md\n"
    }
   },
   "source": [
    "Podemos colocar mais condicões no nosso código:"
   ]
  },
  {
   "cell_type": "code",
   "execution_count": 61,
   "metadata": {
    "pycharm": {
     "name": "#%%\n"
    }
   },
   "outputs": [
    {
     "name": "stdout",
     "output_type": "stream",
     "text": [
      "Durante a viagem o sol não aparecerá e ficará frio\n"
     ]
    }
   ],
   "source": [
    "sol = 'não'\n",
    "temp = 23\n",
    "if sol == 'sim':\n",
    "    if temp >= 25:\n",
    "        print('Durante a viagem fará sol e muito calor!')\n",
    "    else:\n",
    "        print('Durante a viagem fará sol mas pouco calor')\n",
    "else:\n",
    "    if temp >= 25:\n",
    "        print('Durante a viagem o tempo ficará fechado e abafado!')\n",
    "    else:\n",
    "        print(\"Durante a viagem o sol não aparecerá e ficará frio\")"
   ]
  },
  {
   "cell_type": "markdown",
   "metadata": {
    "pycharm": {
     "name": "#%% md\n"
    }
   },
   "source": [
    "![](../img/elif_meme.png)"
   ]
  },
  {
   "cell_type": "markdown",
   "metadata": {
    "pycharm": {
     "name": "#%% md\n"
    }
   },
   "source": [
    "Se há mais de duas possibilidades a serem testadas, use para a primeira, elif (que significa else\n",
    "if) para as possibilidades intermediárias, e else para a última:"
   ]
  },
  {
   "cell_type": "code",
   "execution_count": 65,
   "metadata": {
    "pycharm": {
     "name": "#%%\n"
    }
   },
   "outputs": [
    {
     "name": "stdout",
     "output_type": "stream",
     "text": [
      "Nunca ouvi falar da cor  de burro quando foge\n"
     ]
    }
   ],
   "source": [
    "cor = \"de burro quando foge\"\n",
    "\n",
    "if cor == \"vermelho\":\n",
    "    print(\"A cor é vermelho que nem tomate\")\n",
    "elif cor == \"verde\":\n",
    "    print(\"A cor é verde que nem pimentão\")\n",
    "elif cor == \"amarela\":\n",
    "    print(\"A cor é amarelo que nem banana\")\n",
    "else:\n",
    "    print(\"Nunca ouvi falar da cor \", cor)"
   ]
  },
  {
   "cell_type": "markdown",
   "metadata": {
    "pycharm": {
     "name": "#%% md\n"
    }
   },
   "source": [
    "Abaixo temos a lista de operadores de comparacão que usamos para construir as regras com o comando if/elif/else\n",
    "\n",
    "![](../img/operadores_logicos.png)"
   ]
  },
  {
   "cell_type": "code",
   "execution_count": 70,
   "metadata": {
    "collapsed": false,
    "pycharm": {
     "name": "#%%\n"
    }
   },
   "outputs": [
    {
     "data": {
      "text/plain": [
       "True"
      ]
     },
     "execution_count": 70,
     "metadata": {},
     "output_type": "execute_result"
    }
   ],
   "source": [
    "caixa = 1000\n",
    "divida = 500\n",
    "(caixa > 800) and not (divida < 100)"
   ]
  },
  {
   "cell_type": "markdown",
   "metadata": {
    "collapsed": false,
    "pycharm": {
     "name": "#%% md\n"
    }
   },
   "source": [
    "Se você tiver de fazer várias comparacões com o operador *or*, podemos usar o operador de filiacão do Python (membership operator)."
   ]
  },
  {
   "cell_type": "code",
   "execution_count": 73,
   "metadata": {
    "collapsed": false,
    "pycharm": {
     "name": "#%%\n"
    }
   },
   "outputs": [
    {
     "name": "stdout",
     "output_type": "stream",
     "text": [
      "a  é uma vogal!\n"
     ]
    }
   ],
   "source": [
    "letra = \"a\"\n",
    "\n",
    "if letra == \"a\" or letra == \"e\" or letra == \"i\" or letra == \"o\" or letra == \"u\":\n",
    "    print(letra, \" é uma vogal!\")\n",
    "else:\n",
    "    print(letra, \" não é uma vogal!\")"
   ]
  },
  {
   "cell_type": "code",
   "execution_count": 77,
   "metadata": {
    "collapsed": false,
    "pycharm": {
     "name": "#%%\n"
    }
   },
   "outputs": [
    {
     "name": "stdout",
     "output_type": "stream",
     "text": [
      "a  é uma vogal!\n"
     ]
    }
   ],
   "source": [
    "vogais = \"aeiou\"\n",
    "letra = \"a\"\n",
    "if letra in vogais:\n",
    "    print(letra, \" é uma vogal!\")"
   ]
  },
  {
   "cell_type": "markdown",
   "metadata": {
    "collapsed": false,
    "pycharm": {
     "name": "#%% md\n"
    }
   },
   "source": [
    "## While"
   ]
  },
  {
   "cell_type": "markdown",
   "metadata": {
    "collapsed": false,
    "pycharm": {
     "name": "#%% md\n"
    }
   },
   "source": [
    "O while é usado quando precisamos repetir uma ação enquanto determinadas condições permanecem verdadeiras"
   ]
  },
  {
   "cell_type": "code",
   "execution_count": 85,
   "metadata": {
    "collapsed": false,
    "pycharm": {
     "name": "#%%\n"
    }
   },
   "outputs": [
    {
     "name": "stdout",
     "output_type": "stream",
     "text": [
      "1\n",
      "2\n",
      "3\n",
      "4\n",
      "5\n"
     ]
    }
   ],
   "source": [
    "conta = 1\n",
    "while conta <= 5:\n",
    "    print(conta)\n",
    "    conta +=1 # mesma coisa que conta = conta + 1"
   ]
  },
  {
   "cell_type": "markdown",
   "metadata": {
    "collapsed": false,
    "pycharm": {
     "name": "#%% md\n"
    }
   },
   "source": [
    "Se quisermos iterar até algo ocorrer, mas não sabemos quando essa coisa vai ocorrer, podemos usar um *loop* infinito com o comando break"
   ]
  },
  {
   "cell_type": "code",
   "execution_count": 86,
   "metadata": {
    "collapsed": false,
    "pycharm": {
     "name": "#%%\n"
    }
   },
   "outputs": [
    {
     "ename": "KeyboardInterrupt",
     "evalue": "Interrupted by user",
     "output_type": "error",
     "traceback": [
      "\u001b[0;31m---------------------------------------------------------------------------\u001b[0m",
      "\u001b[0;31mKeyboardInterrupt\u001b[0m                         Traceback (most recent call last)",
      "Cell \u001b[0;32mIn[86], line 2\u001b[0m\n\u001b[1;32m      1\u001b[0m \u001b[39mwhile\u001b[39;00m \u001b[39mTrue\u001b[39;00m:\n\u001b[0;32m----> 2\u001b[0m     value \u001b[39m=\u001b[39m \u001b[39minput\u001b[39;49m(\u001b[39m\"\u001b[39;49m\u001b[39mDigite a string a ser capitalizada [digite q para sair]: \u001b[39;49m\u001b[39m\"\u001b[39;49m)\n\u001b[1;32m      3\u001b[0m     \u001b[39mif\u001b[39;00m value \u001b[39m==\u001b[39m \u001b[39m\"\u001b[39m\u001b[39mq\u001b[39m\u001b[39m\"\u001b[39m:\n\u001b[1;32m      4\u001b[0m         \u001b[39mbreak\u001b[39;00m\n",
      "File \u001b[0;32m~/.local/lib/python3.10/site-packages/ipykernel/kernelbase.py:1175\u001b[0m, in \u001b[0;36mKernel.raw_input\u001b[0;34m(self, prompt)\u001b[0m\n\u001b[1;32m   1171\u001b[0m \u001b[39mif\u001b[39;00m \u001b[39mnot\u001b[39;00m \u001b[39mself\u001b[39m\u001b[39m.\u001b[39m_allow_stdin:\n\u001b[1;32m   1172\u001b[0m     \u001b[39mraise\u001b[39;00m StdinNotImplementedError(\n\u001b[1;32m   1173\u001b[0m         \u001b[39m\"\u001b[39m\u001b[39mraw_input was called, but this frontend does not support input requests.\u001b[39m\u001b[39m\"\u001b[39m\n\u001b[1;32m   1174\u001b[0m     )\n\u001b[0;32m-> 1175\u001b[0m \u001b[39mreturn\u001b[39;00m \u001b[39mself\u001b[39;49m\u001b[39m.\u001b[39;49m_input_request(\n\u001b[1;32m   1176\u001b[0m     \u001b[39mstr\u001b[39;49m(prompt),\n\u001b[1;32m   1177\u001b[0m     \u001b[39mself\u001b[39;49m\u001b[39m.\u001b[39;49m_parent_ident[\u001b[39m\"\u001b[39;49m\u001b[39mshell\u001b[39;49m\u001b[39m\"\u001b[39;49m],\n\u001b[1;32m   1178\u001b[0m     \u001b[39mself\u001b[39;49m\u001b[39m.\u001b[39;49mget_parent(\u001b[39m\"\u001b[39;49m\u001b[39mshell\u001b[39;49m\u001b[39m\"\u001b[39;49m),\n\u001b[1;32m   1179\u001b[0m     password\u001b[39m=\u001b[39;49m\u001b[39mFalse\u001b[39;49;00m,\n\u001b[1;32m   1180\u001b[0m )\n",
      "File \u001b[0;32m~/.local/lib/python3.10/site-packages/ipykernel/kernelbase.py:1217\u001b[0m, in \u001b[0;36mKernel._input_request\u001b[0;34m(self, prompt, ident, parent, password)\u001b[0m\n\u001b[1;32m   1214\u001b[0m             \u001b[39mbreak\u001b[39;00m\n\u001b[1;32m   1215\u001b[0m \u001b[39mexcept\u001b[39;00m \u001b[39mKeyboardInterrupt\u001b[39;00m:\n\u001b[1;32m   1216\u001b[0m     \u001b[39m# re-raise KeyboardInterrupt, to truncate traceback\u001b[39;00m\n\u001b[0;32m-> 1217\u001b[0m     \u001b[39mraise\u001b[39;00m \u001b[39mKeyboardInterrupt\u001b[39;00m(\u001b[39m\"\u001b[39m\u001b[39mInterrupted by user\u001b[39m\u001b[39m\"\u001b[39m) \u001b[39mfrom\u001b[39;00m \u001b[39mNone\u001b[39m\n\u001b[1;32m   1218\u001b[0m \u001b[39mexcept\u001b[39;00m \u001b[39mException\u001b[39;00m:\n\u001b[1;32m   1219\u001b[0m     \u001b[39mself\u001b[39m\u001b[39m.\u001b[39mlog\u001b[39m.\u001b[39mwarning(\u001b[39m\"\u001b[39m\u001b[39mInvalid Message:\u001b[39m\u001b[39m\"\u001b[39m, exc_info\u001b[39m=\u001b[39m\u001b[39mTrue\u001b[39;00m)\n",
      "\u001b[0;31mKeyboardInterrupt\u001b[0m: Interrupted by user"
     ]
    }
   ],
   "source": [
    "while True:\n",
    "    value = input(\"teste\")\n",
    "    if value == \"teste\":\n",
    "        break\n",
    "    print(value.capitalize())"
   ]
  },
  {
   "cell_type": "markdown",
   "metadata": {
    "collapsed": false,
    "pycharm": {
     "name": "#%% md\n"
    }
   },
   "source": [
    "Às vezes só queremos avancar para o próximo item ao invés de para o *loop*. Nesse caso usamo o comando continue"
   ]
  },
  {
   "cell_type": "code",
   "execution_count": 87,
   "metadata": {
    "collapsed": false,
    "pycharm": {
     "name": "#%%\n"
    }
   },
   "outputs": [],
   "source": [
    "while True:\n",
    "    value = input(\"Digite um numero inteiro[digite q para sair]: \")\n",
    "    if value == 'q':\n",
    "        break\n",
    "    number = int(value) # transforma em inteiro\n",
    "    if number % 2 == 0: # numero par\n",
    "        continue\n",
    "    print(number, \"ao quadrado é\", number*number)"
   ]
  },
  {
   "cell_type": "markdown",
   "metadata": {
    "collapsed": false,
    "pycharm": {
     "name": "#%% md\n"
    }
   },
   "source": [
    "## For\n",
    "Com o laço for podemos executar a mesma ação em todos os elementos de uma string, lista, dicionário e tipos de variáveis e estruturas de dados do Python. Essa é uma das maneiras mais comuns para um computador automatizar tarefas repetitivas."
   ]
  },
  {
   "cell_type": "code",
   "execution_count": 78,
   "metadata": {
    "collapsed": false,
    "pycharm": {
     "name": "#%%\n"
    }
   },
   "outputs": [
    {
     "name": "stdout",
     "output_type": "stream",
     "text": [
      "t\n",
      "e\n",
      "m\n",
      "p\n",
      "o\n"
     ]
    }
   ],
   "source": [
    "palavra = \"tempo\"\n",
    "\n",
    "for letra in palavra:\n",
    "    print(letra)\n"
   ]
  },
  {
   "cell_type": "code",
   "execution_count": 79,
   "metadata": {
    "collapsed": false,
    "pycharm": {
     "name": "#%%\n"
    }
   },
   "outputs": [
    {
     "name": "stdout",
     "output_type": "stream",
     "text": [
      "abacaxi\n",
      "melancia\n",
      "amora\n",
      "abacate\n",
      "uva\n",
      "morango\n",
      "banana\n"
     ]
    }
   ],
   "source": [
    "frutas = ['abacaxi', 'melancia', 'amora','abacate', 'uva', 'morango', 'banana']\n",
    "\n",
    "for fruta in frutas:\n",
    "    print(fruta)"
   ]
  },
  {
   "cell_type": "code",
   "execution_count": 80,
   "metadata": {
    "collapsed": false,
    "pycharm": {
     "name": "#%%\n"
    }
   },
   "outputs": [
    {
     "name": "stdout",
     "output_type": "stream",
     "text": [
      "0\n",
      "1\n",
      "2\n"
     ]
    }
   ],
   "source": [
    "# a funcão range gera uma sequência de valores dentro de um intervalo\n",
    "for item in range(0,3): # o ultimo valor a ser criado é o 2\n",
    "    print(item)"
   ]
  },
  {
   "cell_type": "code",
   "execution_count": 81,
   "metadata": {
    "collapsed": false,
    "pycharm": {
     "name": "#%%\n"
    }
   },
   "outputs": [
    {
     "name": "stdout",
     "output_type": "stream",
     "text": [
      "2\n",
      "1\n",
      "0\n"
     ]
    }
   ],
   "source": [
    "for item in range(2, -1, -1): # range(start, stop, step) -1 decrescente, se 1 crescente passo\n",
    "    print(item)"
   ]
  },
  {
   "cell_type": "code",
   "execution_count": 82,
   "metadata": {
    "collapsed": false,
    "pycharm": {
     "name": "#%%\n"
    }
   },
   "outputs": [
    {
     "name": "stdout",
     "output_type": "stream",
     "text": [
      "Abacaxi\n",
      "A fruta melancia não começa com a letra a!\n",
      "Amora\n",
      "Abacate\n",
      "A fruta uva não começa com a letra a!\n",
      "A fruta morango não começa com a letra a!\n",
      "A fruta banana não começa com a letra a!\n"
     ]
    }
   ],
   "source": []
  },
  {
   "cell_type": "markdown",
   "metadata": {
    "collapsed": false,
    "pycharm": {
     "name": "#%% md\n"
    }
   },
   "source": [
    "Podemos iterar sobre múltiplas listas em paralelo usando a funcão *zip()*"
   ]
  },
  {
   "cell_type": "code",
   "execution_count": 83,
   "metadata": {
    "collapsed": false,
    "pycharm": {
     "name": "#%%\n"
    }
   },
   "outputs": [
    {
     "name": "stdout",
     "output_type": "stream",
     "text": [
      "segunda : beber café  - comer abacaxi - sair da dieta com pudim\n",
      "terca : beber suco  - comer melancia - sair da dieta com chocolate\n",
      "quarta : beber água  - comer amora - sair da dieta com sorvete\n"
     ]
    }
   ],
   "source": [
    "dias = [\"segunda\", \"terca\", \"quarta\", \"quinta\", \"sexta\"] # 5 dias\n",
    "frutas = ['abacaxi', 'melancia', 'amora'] # 3 frutas\n",
    "bebidas = [\"café\", \"suco\", \"água\", \"cerveja\", \"vinho\"] # 5 bebidas\n",
    "sobremesas = [\"pudim\", \"chocolate\", \"sorvete\",\"torta\", \"cookie\"] # 5 sobremesas\n",
    "\n",
    "for dia, fruta, bebida, sobremesa in zip(dias, frutas, bebidas, sobremesas):\n",
    "    print(dia, \": beber\", bebida, \" - comer\", fruta, \"- sair da dieta com\", sobremesa) # ordem pode trocar aqui\n",
    "    # a interação termina na lista menor"
   ]
  },
  {
   "cell_type": "code",
   "execution_count": 84,
   "metadata": {
    "collapsed": false,
    "pycharm": {
     "name": "#%%\n"
    }
   },
   "outputs": [
    {
     "name": "stdout",
     "output_type": "stream",
     "text": [
      "{'Monday': 'Segunda-feira', 'Tuesday': 'Terca-feira', 'Wednesday': 'Quarta-feira', 'Thursday': 'Quinta-feira', 'Saturaday': 'Sexta-feira', 'Sunday': 'Sábado'}\n"
     ]
    }
   ],
   "source": [
    "portugues = [\"Segunda-feira\", \"Terca-feira\", \"Quarta-feira\", \"Quinta-feira\", \"Sexta-feira\", \"Sábado\", \"Domingo\"]\n",
    "\n",
    "ingles = [\"Monday\", \"Tuesday\", \"Wednesday\", \"Thursday\", \"Saturaday\", \"Sunday\"]\n",
    "\n",
    "dicionario = dict(zip(ingles, portugues))\n",
    "print(dicionario)"
   ]
  }
 ],
 "metadata": {
  "kernelspec": {
   "display_name": "Python 3",
   "language": "python",
   "name": "python3"
  },
  "language_info": {
   "codemirror_mode": {
    "name": "ipython",
    "version": 3
   },
   "file_extension": ".py",
   "mimetype": "text/x-python",
   "name": "python",
   "nbconvert_exporter": "python",
   "pygments_lexer": "ipython3",
   "version": "3.10.4 (main, Dec 19 2022, 20:24:16) [GCC 9.4.0]"
  },
  "vscode": {
   "interpreter": {
    "hash": "3ad933181bd8a04b432d3370b9dc3b0662ad032c4dfaa4e4f1596c548f763858"
   }
  }
 },
 "nbformat": 4,
 "nbformat_minor": 1
}
